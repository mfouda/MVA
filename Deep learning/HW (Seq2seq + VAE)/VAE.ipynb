{
  "nbformat": 4,
  "nbformat_minor": 0,
  "metadata": {
    "colab": {
      "name": "Deep_VAE.ipynb",
      "provenance": [],
      "collapsed_sections": []
    },
    "kernelspec": {
      "name": "python3",
      "display_name": "Python 3"
    },
    "accelerator": "GPU",
    "widgets": {
      "application/vnd.jupyter.widget-state+json": {
        "2ce5d4dfbfaf48d1a8a35a063796ca4f": {
          "model_module": "@jupyter-widgets/controls",
          "model_name": "HBoxModel",
          "state": {
            "_view_name": "HBoxView",
            "_dom_classes": [],
            "_model_name": "HBoxModel",
            "_view_module": "@jupyter-widgets/controls",
            "_model_module_version": "1.5.0",
            "_view_count": null,
            "_view_module_version": "1.5.0",
            "box_style": "",
            "layout": "IPY_MODEL_4d5b9b340ed346c9bd740573472d9290",
            "_model_module": "@jupyter-widgets/controls",
            "children": [
              "IPY_MODEL_3a11e58d765443548fb19d178dd8dcb5",
              "IPY_MODEL_86a5476947e54ee9968cefb9a3847296"
            ]
          }
        },
        "4d5b9b340ed346c9bd740573472d9290": {
          "model_module": "@jupyter-widgets/base",
          "model_name": "LayoutModel",
          "state": {
            "_view_name": "LayoutView",
            "grid_template_rows": null,
            "right": null,
            "justify_content": null,
            "_view_module": "@jupyter-widgets/base",
            "overflow": null,
            "_model_module_version": "1.2.0",
            "_view_count": null,
            "flex_flow": "row wrap",
            "width": "100%",
            "min_width": null,
            "border": null,
            "align_items": null,
            "bottom": null,
            "_model_module": "@jupyter-widgets/base",
            "top": null,
            "grid_column": null,
            "overflow_y": null,
            "overflow_x": null,
            "grid_auto_flow": null,
            "grid_area": null,
            "grid_template_columns": null,
            "flex": null,
            "_model_name": "LayoutModel",
            "justify_items": null,
            "grid_row": null,
            "max_height": null,
            "align_content": null,
            "visibility": null,
            "align_self": null,
            "height": null,
            "min_height": null,
            "padding": null,
            "grid_auto_rows": null,
            "grid_gap": null,
            "max_width": null,
            "order": null,
            "_view_module_version": "1.2.0",
            "grid_template_areas": null,
            "object_position": null,
            "object_fit": null,
            "grid_auto_columns": null,
            "margin": null,
            "display": "inline-flex",
            "left": null
          }
        },
        "3a11e58d765443548fb19d178dd8dcb5": {
          "model_module": "@jupyter-widgets/controls",
          "model_name": "FloatProgressModel",
          "state": {
            "_view_name": "ProgressView",
            "style": "IPY_MODEL_193a2cb7aa70490fb00292eb26a6261d",
            "_dom_classes": [],
            "description": "Epoch 29: 100%",
            "_model_name": "FloatProgressModel",
            "bar_style": "success",
            "max": 93,
            "_view_module": "@jupyter-widgets/controls",
            "_model_module_version": "1.5.0",
            "value": 93,
            "_view_count": null,
            "_view_module_version": "1.5.0",
            "orientation": "horizontal",
            "min": 0,
            "description_tooltip": null,
            "_model_module": "@jupyter-widgets/controls",
            "layout": "IPY_MODEL_bd65536809b6468f949c0b96967d8576"
          }
        },
        "86a5476947e54ee9968cefb9a3847296": {
          "model_module": "@jupyter-widgets/controls",
          "model_name": "HTMLModel",
          "state": {
            "_view_name": "HTMLView",
            "style": "IPY_MODEL_17f9f896894041df99311d6793e20cb2",
            "_dom_classes": [],
            "description": "",
            "_model_name": "HTMLModel",
            "placeholder": "​",
            "_view_module": "@jupyter-widgets/controls",
            "_model_module_version": "1.5.0",
            "value": " 93/93 [01:29&lt;00:00,  1.04it/s, loss=8.49e+03, v_num=4]",
            "_view_count": null,
            "_view_module_version": "1.5.0",
            "description_tooltip": null,
            "_model_module": "@jupyter-widgets/controls",
            "layout": "IPY_MODEL_e37eb939859d46a09553148b9135e243"
          }
        },
        "193a2cb7aa70490fb00292eb26a6261d": {
          "model_module": "@jupyter-widgets/controls",
          "model_name": "ProgressStyleModel",
          "state": {
            "_view_name": "StyleView",
            "_model_name": "ProgressStyleModel",
            "description_width": "initial",
            "_view_module": "@jupyter-widgets/base",
            "_model_module_version": "1.5.0",
            "_view_count": null,
            "_view_module_version": "1.2.0",
            "bar_color": null,
            "_model_module": "@jupyter-widgets/controls"
          }
        },
        "bd65536809b6468f949c0b96967d8576": {
          "model_module": "@jupyter-widgets/base",
          "model_name": "LayoutModel",
          "state": {
            "_view_name": "LayoutView",
            "grid_template_rows": null,
            "right": null,
            "justify_content": null,
            "_view_module": "@jupyter-widgets/base",
            "overflow": null,
            "_model_module_version": "1.2.0",
            "_view_count": null,
            "flex_flow": null,
            "width": null,
            "min_width": null,
            "border": null,
            "align_items": null,
            "bottom": null,
            "_model_module": "@jupyter-widgets/base",
            "top": null,
            "grid_column": null,
            "overflow_y": null,
            "overflow_x": null,
            "grid_auto_flow": null,
            "grid_area": null,
            "grid_template_columns": null,
            "flex": "2",
            "_model_name": "LayoutModel",
            "justify_items": null,
            "grid_row": null,
            "max_height": null,
            "align_content": null,
            "visibility": null,
            "align_self": null,
            "height": null,
            "min_height": null,
            "padding": null,
            "grid_auto_rows": null,
            "grid_gap": null,
            "max_width": null,
            "order": null,
            "_view_module_version": "1.2.0",
            "grid_template_areas": null,
            "object_position": null,
            "object_fit": null,
            "grid_auto_columns": null,
            "margin": null,
            "display": null,
            "left": null
          }
        },
        "17f9f896894041df99311d6793e20cb2": {
          "model_module": "@jupyter-widgets/controls",
          "model_name": "DescriptionStyleModel",
          "state": {
            "_view_name": "StyleView",
            "_model_name": "DescriptionStyleModel",
            "description_width": "",
            "_view_module": "@jupyter-widgets/base",
            "_model_module_version": "1.5.0",
            "_view_count": null,
            "_view_module_version": "1.2.0",
            "_model_module": "@jupyter-widgets/controls"
          }
        },
        "e37eb939859d46a09553148b9135e243": {
          "model_module": "@jupyter-widgets/base",
          "model_name": "LayoutModel",
          "state": {
            "_view_name": "LayoutView",
            "grid_template_rows": null,
            "right": null,
            "justify_content": null,
            "_view_module": "@jupyter-widgets/base",
            "overflow": null,
            "_model_module_version": "1.2.0",
            "_view_count": null,
            "flex_flow": null,
            "width": null,
            "min_width": null,
            "border": null,
            "align_items": null,
            "bottom": null,
            "_model_module": "@jupyter-widgets/base",
            "top": null,
            "grid_column": null,
            "overflow_y": null,
            "overflow_x": null,
            "grid_auto_flow": null,
            "grid_area": null,
            "grid_template_columns": null,
            "flex": null,
            "_model_name": "LayoutModel",
            "justify_items": null,
            "grid_row": null,
            "max_height": null,
            "align_content": null,
            "visibility": null,
            "align_self": null,
            "height": null,
            "min_height": null,
            "padding": null,
            "grid_auto_rows": null,
            "grid_gap": null,
            "max_width": null,
            "order": null,
            "_view_module_version": "1.2.0",
            "grid_template_areas": null,
            "object_position": null,
            "object_fit": null,
            "grid_auto_columns": null,
            "margin": null,
            "display": null,
            "left": null
          }
        },
        "2a8b29f3f4764c51acfab58fa6a8114e": {
          "model_module": "@jupyter-widgets/controls",
          "model_name": "HBoxModel",
          "state": {
            "_view_name": "HBoxView",
            "_dom_classes": [],
            "_model_name": "HBoxModel",
            "_view_module": "@jupyter-widgets/controls",
            "_model_module_version": "1.5.0",
            "_view_count": null,
            "_view_module_version": "1.5.0",
            "box_style": "",
            "layout": "IPY_MODEL_2f43aea498294378937de8466e9e80dd",
            "_model_module": "@jupyter-widgets/controls",
            "children": [
              "IPY_MODEL_68dca1badee4411aa6d404ecc51d28c4",
              "IPY_MODEL_6afd3fbaec3a4e09abd98179f13459b7"
            ]
          }
        },
        "2f43aea498294378937de8466e9e80dd": {
          "model_module": "@jupyter-widgets/base",
          "model_name": "LayoutModel",
          "state": {
            "_view_name": "LayoutView",
            "grid_template_rows": null,
            "right": null,
            "justify_content": null,
            "_view_module": "@jupyter-widgets/base",
            "overflow": null,
            "_model_module_version": "1.2.0",
            "_view_count": null,
            "flex_flow": "row wrap",
            "width": "100%",
            "min_width": null,
            "border": null,
            "align_items": null,
            "bottom": null,
            "_model_module": "@jupyter-widgets/base",
            "top": null,
            "grid_column": null,
            "overflow_y": null,
            "overflow_x": null,
            "grid_auto_flow": null,
            "grid_area": null,
            "grid_template_columns": null,
            "flex": null,
            "_model_name": "LayoutModel",
            "justify_items": null,
            "grid_row": null,
            "max_height": null,
            "align_content": null,
            "visibility": null,
            "align_self": null,
            "height": null,
            "min_height": null,
            "padding": null,
            "grid_auto_rows": null,
            "grid_gap": null,
            "max_width": null,
            "order": null,
            "_view_module_version": "1.2.0",
            "grid_template_areas": null,
            "object_position": null,
            "object_fit": null,
            "grid_auto_columns": null,
            "margin": null,
            "display": "inline-flex",
            "left": null
          }
        },
        "68dca1badee4411aa6d404ecc51d28c4": {
          "model_module": "@jupyter-widgets/controls",
          "model_name": "FloatProgressModel",
          "state": {
            "_view_name": "ProgressView",
            "style": "IPY_MODEL_90c2034e7fb843ddbcf76f2b7e60bd6d",
            "_dom_classes": [],
            "description": "Epoch 29: 100%",
            "_model_name": "FloatProgressModel",
            "bar_style": "success",
            "max": 93,
            "_view_module": "@jupyter-widgets/controls",
            "_model_module_version": "1.5.0",
            "value": 93,
            "_view_count": null,
            "_view_module_version": "1.5.0",
            "orientation": "horizontal",
            "min": 0,
            "description_tooltip": null,
            "_model_module": "@jupyter-widgets/controls",
            "layout": "IPY_MODEL_40e41c4da22d43d4bd0738fdd2a4d45e"
          }
        },
        "6afd3fbaec3a4e09abd98179f13459b7": {
          "model_module": "@jupyter-widgets/controls",
          "model_name": "HTMLModel",
          "state": {
            "_view_name": "HTMLView",
            "style": "IPY_MODEL_411d72a85a4b4a9db678140d0d691766",
            "_dom_classes": [],
            "description": "",
            "_model_name": "HTMLModel",
            "placeholder": "​",
            "_view_module": "@jupyter-widgets/controls",
            "_model_module_version": "1.5.0",
            "value": " 93/93 [00:03&lt;00:00, 28.34it/s, loss=1e+04, v_num=5]",
            "_view_count": null,
            "_view_module_version": "1.5.0",
            "description_tooltip": null,
            "_model_module": "@jupyter-widgets/controls",
            "layout": "IPY_MODEL_690de6720d0b487884f05b54871877c5"
          }
        },
        "90c2034e7fb843ddbcf76f2b7e60bd6d": {
          "model_module": "@jupyter-widgets/controls",
          "model_name": "ProgressStyleModel",
          "state": {
            "_view_name": "StyleView",
            "_model_name": "ProgressStyleModel",
            "description_width": "initial",
            "_view_module": "@jupyter-widgets/base",
            "_model_module_version": "1.5.0",
            "_view_count": null,
            "_view_module_version": "1.2.0",
            "bar_color": null,
            "_model_module": "@jupyter-widgets/controls"
          }
        },
        "40e41c4da22d43d4bd0738fdd2a4d45e": {
          "model_module": "@jupyter-widgets/base",
          "model_name": "LayoutModel",
          "state": {
            "_view_name": "LayoutView",
            "grid_template_rows": null,
            "right": null,
            "justify_content": null,
            "_view_module": "@jupyter-widgets/base",
            "overflow": null,
            "_model_module_version": "1.2.0",
            "_view_count": null,
            "flex_flow": null,
            "width": null,
            "min_width": null,
            "border": null,
            "align_items": null,
            "bottom": null,
            "_model_module": "@jupyter-widgets/base",
            "top": null,
            "grid_column": null,
            "overflow_y": null,
            "overflow_x": null,
            "grid_auto_flow": null,
            "grid_area": null,
            "grid_template_columns": null,
            "flex": "2",
            "_model_name": "LayoutModel",
            "justify_items": null,
            "grid_row": null,
            "max_height": null,
            "align_content": null,
            "visibility": null,
            "align_self": null,
            "height": null,
            "min_height": null,
            "padding": null,
            "grid_auto_rows": null,
            "grid_gap": null,
            "max_width": null,
            "order": null,
            "_view_module_version": "1.2.0",
            "grid_template_areas": null,
            "object_position": null,
            "object_fit": null,
            "grid_auto_columns": null,
            "margin": null,
            "display": null,
            "left": null
          }
        },
        "411d72a85a4b4a9db678140d0d691766": {
          "model_module": "@jupyter-widgets/controls",
          "model_name": "DescriptionStyleModel",
          "state": {
            "_view_name": "StyleView",
            "_model_name": "DescriptionStyleModel",
            "description_width": "",
            "_view_module": "@jupyter-widgets/base",
            "_model_module_version": "1.5.0",
            "_view_count": null,
            "_view_module_version": "1.2.0",
            "_model_module": "@jupyter-widgets/controls"
          }
        },
        "690de6720d0b487884f05b54871877c5": {
          "model_module": "@jupyter-widgets/base",
          "model_name": "LayoutModel",
          "state": {
            "_view_name": "LayoutView",
            "grid_template_rows": null,
            "right": null,
            "justify_content": null,
            "_view_module": "@jupyter-widgets/base",
            "overflow": null,
            "_model_module_version": "1.2.0",
            "_view_count": null,
            "flex_flow": null,
            "width": null,
            "min_width": null,
            "border": null,
            "align_items": null,
            "bottom": null,
            "_model_module": "@jupyter-widgets/base",
            "top": null,
            "grid_column": null,
            "overflow_y": null,
            "overflow_x": null,
            "grid_auto_flow": null,
            "grid_area": null,
            "grid_template_columns": null,
            "flex": null,
            "_model_name": "LayoutModel",
            "justify_items": null,
            "grid_row": null,
            "max_height": null,
            "align_content": null,
            "visibility": null,
            "align_self": null,
            "height": null,
            "min_height": null,
            "padding": null,
            "grid_auto_rows": null,
            "grid_gap": null,
            "max_width": null,
            "order": null,
            "_view_module_version": "1.2.0",
            "grid_template_areas": null,
            "object_position": null,
            "object_fit": null,
            "grid_auto_columns": null,
            "margin": null,
            "display": null,
            "left": null
          }
        }
      }
    }
  },
  "cells": [
    {
      "cell_type": "code",
      "metadata": {
        "id": "ZOHynXt9WYKK"
      },
      "source": [
        "!pip install -q pytorch-lightning"
      ],
      "execution_count": 1,
      "outputs": []
    },
    {
      "cell_type": "markdown",
      "metadata": {
        "id": "Xsryp55Tda9U"
      },
      "source": [
        "## Loading datasets and creating callback"
      ]
    },
    {
      "cell_type": "code",
      "metadata": {
        "id": "yDIKtOSvr0SC"
      },
      "source": [
        "import torch\n",
        "import torchvision\n",
        "import torch.optim as optim\n",
        "import argparse\n",
        "import matplotlib\n",
        "import torch.nn as nn\n",
        "import matplotlib.pyplot as plt\n",
        "import torchvision.transforms as transforms\n",
        "#import model\n",
        "from tqdm import tqdm\n",
        "from torchvision import datasets\n",
        "from torch.utils.data import DataLoader\n",
        "from torchvision.utils import save_image\n",
        "import pytorch_lightning as pl\n",
        "import torch.nn.functional as F\n",
        "matplotlib.style.use('ggplot')"
      ],
      "execution_count": 2,
      "outputs": []
    },
    {
      "cell_type": "code",
      "metadata": {
        "id": "p4Tn92bKr_Vd"
      },
      "source": [
        "batch_size = 64\n",
        "# transforms\n",
        "transform = transforms.Compose([\n",
        "    transforms.ToTensor(),\n",
        "])\n",
        "# train and validation data\n",
        "train_data = datasets.MNIST(\n",
        "    root='../input/data',\n",
        "    train=True,\n",
        "    download=True,\n",
        "    transform=transform\n",
        ")\n",
        "val_data = datasets.MNIST(\n",
        "    root='../input/data',\n",
        "    train=False,\n",
        "    download=True,\n",
        "    transform=transform\n",
        ")\n",
        "# training and validation data loaders\n",
        "train_loader = DataLoader(\n",
        "    train_data,\n",
        "    batch_size=batch_size,\n",
        "    shuffle=True\n",
        ")\n",
        "val_loader = DataLoader(\n",
        "    val_data,\n",
        "    batch_size=batch_size,\n",
        "    shuffle=False\n",
        ")"
      ],
      "execution_count": 3,
      "outputs": []
    },
    {
      "cell_type": "code",
      "metadata": {
        "id": "X2-QiGOkZ6DH"
      },
      "source": [
        "import numpy as np\n",
        "from matplotlib.pyplot import figure, imshow, axis\n",
        "class PlotSamples(pl.Callback):\n",
        "\n",
        "    def __init__(self,num_samples,val_samples):\n",
        "\n",
        "      super().__init__()\n",
        "      self.num_samples = num_samples\n",
        "      self.val_samples = val_samples\n",
        "    \n",
        "    def on_train_epoch_end(self, trainer, pl_module,x):\n",
        "\n",
        "        if pl_module.current_epoch % 25 == 0:\n",
        "          print(\"Epoch NO: \",pl_module.current_epoch)\n",
        "         \n",
        "          # Bring the tensors to CPU\n",
        "          val_samples = self.val_samples.to(device=pl_module.device)\n",
        "          rec_imgs = pl_module(val_samples).detach().cpu().numpy()\n",
        "          rec_samples = rec_imgs.reshape((self.num_samples,28,28))\n",
        "\n",
        "          val_samples = val_samples.detach().cpu().numpy()\n",
        "          val_samples = val_samples.reshape((self.num_samples,28,28))\n",
        "\n",
        "          fig = figure(figsize=(20,10))\n",
        "          for i in range(self.num_samples):\n",
        "\n",
        "            a=fig.add_subplot(1,self.num_samples,i+1)\n",
        "            imshow(val_samples[i],cmap='Greys_r')\n",
        "            b = fig.add_subplot(2,self.num_samples,i+1)\n",
        "            imshow(rec_samples[i],cmap='Greys_r')\n",
        "            axis('off')\n",
        "          \n",
        "          plt.show()\n",
        "idx = np.random.choice(len(train_data),size=(8))\n",
        "val_imgs = [train_data[i][0] for i in idx]\n",
        "val_imgs = torch.stack(val_imgs)\n",
        "\n",
        "\n",
        "plot_samples = PlotSamples(val_imgs.size(0),val_imgs)\n"
      ],
      "execution_count": 4,
      "outputs": []
    },
    {
      "cell_type": "code",
      "metadata": {
        "id": "80HC4GpHqTWB"
      },
      "source": [
        ""
      ],
      "execution_count": null,
      "outputs": []
    },
    {
      "cell_type": "markdown",
      "metadata": {
        "id": "oUiAA6m4dfM8"
      },
      "source": [
        "## Model definition + Training"
      ]
    },
    {
      "cell_type": "code",
      "metadata": {
        "id": "jaVjTXrlrvHP"
      },
      "source": [
        "features = 16\n",
        "n_epochs = 30\n",
        "# define a simple linear VAE\n",
        "class LinearVAE(pl.LightningModule):\n",
        "    def __init__(self):\n",
        "        super(LinearVAE, self).__init__()\n",
        " \n",
        "        # encoder\n",
        "        self.enc1 = nn.Linear(in_features=784, out_features=512)\n",
        "        self.enc2 = nn.Linear(in_features=512, out_features=features*2)\n",
        " \n",
        "        # decoder \n",
        "        self.dec1 = nn.Linear(in_features=features, out_features=512)\n",
        "        self.dec2 = nn.Linear(in_features=512, out_features=784)\n",
        "        self.criterion = nn.BCELoss(reduction='sum')\n",
        "\n",
        "    def reparameterize(self, mu, log_var):\n",
        "        \"\"\"\n",
        "        :param mu: mean from the encoder's latent space\n",
        "        :param log_var: log variance from the encoder's latent space\n",
        "        \"\"\"\n",
        "        std = torch.exp(0.5*log_var) # standard deviation\n",
        "        eps = torch.randn_like(std) # `randn_like` as we need the same size\n",
        "        sample = mu + (eps * std) # sampling as if coming from the input space\n",
        "        return sample\n",
        " \n",
        "    def forward(self, data):\n",
        "      \n",
        "        x= data        \n",
        "        # encoding\n",
        "        x = x.view(x.size(0),-1)\n",
        "        x = F.relu(self.enc1(x))\n",
        "        x = self.enc2(x).view(-1, 2, features)\n",
        "\n",
        "        # get `mu` and `log_var`\n",
        "        mu = x[:, 0, :] # the first feature values as mean\n",
        "        log_var = x[:, 1, :] # the other feature values as variance\n",
        "\n",
        "        # get the latent vector through reparameterization\n",
        "        z = self.reparameterize(mu, log_var)\n",
        " \n",
        "        # decoding\n",
        "        x = F.relu(self.dec1(z))\n",
        "        reconstruction = torch.sigmoid(self.dec2(x))\n",
        "        return reconstruction\n",
        "    \n",
        "    def training_step(self, batch, batch_idx):\n",
        "\n",
        "      x,y = batch \n",
        "\n",
        "      \n",
        "\n",
        "      x_o = x.view(x.size(0), -1)\n",
        "      \n",
        "\n",
        "      # encoding\n",
        "      x = F.relu(self.enc1(x_o))\n",
        "      x = self.enc2(x).view(-1, 2, features)\n",
        "\n",
        "      # get `mu` and `log_var`\n",
        "      mu = x[:, 0, :] # the first feature values as mean\n",
        "      logvar = x[:, 1, :] # the other feature values as variance\n",
        "\n",
        "      # get the latent vector through reparameterization\n",
        "      z = self.reparameterize(mu, logvar)\n",
        "\n",
        "      # decoding\n",
        "      x = F.relu(self.dec1(z))\n",
        "      reconstruction = torch.sigmoid(self.dec2(x))\n",
        "\n",
        "      \n",
        "      bce_loss = self.criterion(reconstruction,x_o)\n",
        "\n",
        "      BCE = bce_loss \n",
        "      KLD = -0.5 * torch.sum(1 + logvar - mu.pow(2) - logvar.exp())\n",
        "\n",
        "      loss = BCE + KLD\n",
        "\n",
        "      return loss\n",
        "\n",
        "    def configure_optimizers(self):\n",
        "      optimizer = torch.optim.Adam(self.parameters(), lr=1e-4)\n",
        "      return optimizer\n"
      ],
      "execution_count": 5,
      "outputs": []
    },
    {
      "cell_type": "code",
      "metadata": {
        "colab": {
          "base_uri": "https://localhost:8080/",
          "height": 1000,
          "referenced_widgets": [
            "2ce5d4dfbfaf48d1a8a35a063796ca4f",
            "4d5b9b340ed346c9bd740573472d9290",
            "3a11e58d765443548fb19d178dd8dcb5",
            "86a5476947e54ee9968cefb9a3847296",
            "193a2cb7aa70490fb00292eb26a6261d",
            "bd65536809b6468f949c0b96967d8576",
            "17f9f896894041df99311d6793e20cb2",
            "e37eb939859d46a09553148b9135e243"
          ]
        },
        "id": "V9d9aaQqYOTd",
        "outputId": "2486c1e4-8f61-47e1-aee8-24086a8e042e"
      },
      "source": [
        "autoencoder = LinearVAE()\n",
        "trainer = pl.Trainer(gpus=1,max_epochs=n_epochs,callbacks=[plot_samples],overfit_batches=0.1)\n",
        "trainer.fit(autoencoder, train_loader)"
      ],
      "execution_count": 6,
      "outputs": [
        {
          "output_type": "stream",
          "text": [
            "/usr/local/lib/python3.6/dist-packages/pytorch_lightning/utilities/distributed.py:49: UserWarning: You have set progress_bar_refresh_rate < 20 on Google Colab. This may crash. Consider using progress_bar_refresh_rate >= 20 in Trainer.\n",
            "  warnings.warn(*args, **kwargs)\n",
            "GPU available: True, used: True\n",
            "TPU available: None, using: 0 TPU cores\n",
            "LOCAL_RANK: 0 - CUDA_VISIBLE_DEVICES: [0]\n",
            "\n",
            "  | Name      | Type    | Params\n",
            "--------------------------------------\n",
            "0 | enc1      | Linear  | 401 K \n",
            "1 | enc2      | Linear  | 16.4 K\n",
            "2 | dec1      | Linear  | 8.7 K \n",
            "3 | dec2      | Linear  | 402 K \n",
            "4 | criterion | BCELoss | 0     \n",
            "--------------------------------------\n",
            "829 K     Trainable params\n",
            "0         Non-trainable params\n",
            "829 K     Total params\n",
            "/usr/local/lib/python3.6/dist-packages/pytorch_lightning/utilities/distributed.py:49: UserWarning: You requested to overfit but enabled training dataloader shuffling. We are turning it off for you.\n",
            "  warnings.warn(*args, **kwargs)\n"
          ],
          "name": "stderr"
        },
        {
          "output_type": "display_data",
          "data": {
            "application/vnd.jupyter.widget-view+json": {
              "model_id": "2ce5d4dfbfaf48d1a8a35a063796ca4f",
              "version_minor": 0,
              "version_major": 2
            },
            "text/plain": [
              "HBox(children=(FloatProgress(value=1.0, bar_style='info', description='Training', layout=Layout(flex='2'), max…"
            ]
          },
          "metadata": {
            "tags": []
          }
        },
        {
          "output_type": "stream",
          "text": [
            "Epoch NO:  80\n"
          ],
          "name": "stdout"
        },
        {
          "output_type": "display_data",
          "data": {
            "image/png": "[encoded data removed]",
            "text/plain": [
              "<Figure size 1440x720 with 16 Axes>"
            ]
          },
          "metadata": {
            "tags": []
          }
        },
        {
          "output_type": "stream",
          "text": [
            "Epoch NO:  80\n"
          ],
          "name": "stdout"
        },
        {
          "output_type": "display_data",
          "data": {
            "image/png": "[encoded data removed]",
            "text/plain": [
              "<Figure size 1440x720 with 16 Axes>"
            ]
          },
          "metadata": {
            "tags": []
          }
        },
        {
          "output_type": "stream",
          "text": [
            "\n"
          ],
          "name": "stdout"
        },
        {
          "output_type": "execute_result",
          "data": {
            "text/plain": [
              "1"
            ]
          },
          "metadata": {
            "tags": []
          },
          "execution_count": 6
        }
      ]
    },
    {
      "cell_type": "markdown",
      "metadata": {
        "id": "8gNT0vO4dvIn"
      },
      "source": [
        "## UNET like VAE\n"
      ]
    },
    {
      "cell_type": "code",
      "metadata": {
        "id": "ux_ZydBPdNrW"
      },
      "source": [
        "FACTOR = 2\n",
        "class DoubleConv(nn.Module):\n",
        "    \"\"\"(convolution => [BN] => ReLU) * 2\"\"\"\n",
        "\n",
        "    def __init__(self, in_channels, out_channels, mid_channels=None):\n",
        "        super().__init__()\n",
        "        if not mid_channels:\n",
        "            mid_channels = out_channels\n",
        "        self.double_conv = nn.Sequential(\n",
        "            nn.Conv2d(in_channels, mid_channels, kernel_size=3, padding=1),\n",
        "            nn.BatchNorm2d(mid_channels),\n",
        "            nn.ReLU(inplace=True),\n",
        "            nn.Conv2d(mid_channels, out_channels, kernel_size=3, padding=1),\n",
        "            nn.BatchNorm2d(out_channels),\n",
        "            nn.ReLU(inplace=True)\n",
        "        )\n",
        "\n",
        "    def forward(self, x):\n",
        "        return self.double_conv(x)\n",
        "\n",
        "\n",
        "class Down(nn.Module):\n",
        "    \"\"\"Downscaling with maxpool then double conv\"\"\"\n",
        "\n",
        "    def __init__(self, in_channels, out_channels):\n",
        "        super().__init__()\n",
        "        self.maxpool_conv = nn.Sequential(\n",
        "            nn.MaxPool2d(FACTOR),\n",
        "            DoubleConv(in_channels, out_channels)\n",
        "        )\n",
        "\n",
        "    def forward(self, x):\n",
        "        return self.maxpool_conv(x)\n",
        "\n",
        "\n",
        "class Up(nn.Module):\n",
        "    \"\"\"Upscaling then double conv\"\"\"\n",
        "\n",
        "    def __init__(self, in_channels, out_channels, bilinear=True):\n",
        "        super().__init__()\n",
        "\n",
        "        # if bilinear, use the normal convolutions to reduce the number of channels\n",
        "        if bilinear:\n",
        "            self.up = nn.Upsample(scale_factor=FACTOR, mode='bilinear', align_corners=True)\n",
        "            self.conv = DoubleConv(in_channels, out_channels, in_channels // 2)\n",
        "        else:\n",
        "            self.up = nn.ConvTranspose2d(in_channels , in_channels // 2, kernel_size=2, stride=2)\n",
        "            self.conv = DoubleConv(in_channels, out_channels)\n",
        "\n",
        "\n",
        "    def forward(self, x1, x2):\n",
        "        x1 = self.up(x1)\n",
        "        # input is CHW\n",
        "        diffY = x2.size()[2] - x1.size()[2]\n",
        "        diffX = x2.size()[3] - x1.size()[3]\n",
        "\n",
        "        x1 = F.pad(x1, [diffX // 2, diffX - diffX // 2,\n",
        "                        diffY // 2, diffY - diffY // 2])\n",
        "        # if you have padding issues, see\n",
        "        # https://github.com/HaiyongJiang/U-Net-Pytorch-Unstructured-Buggy/commit/0e854509c2cea854e247a9c615f175f76fbb2e3a\n",
        "        # https://github.com/xiaopeng-liao/Pytorch-UNet/commit/8ebac70e633bac59fc22bb5195e513d5832fb3bd\n",
        "        x = torch.cat([x2, x1], dim=1)\n",
        "        return self.conv(x)\n",
        "\n",
        "\n",
        "class OutConv(nn.Module):\n",
        "    def __init__(self, in_channels, out_channels):\n",
        "        super(OutConv, self).__init__()\n",
        "        self.conv = nn.Conv2d(in_channels, out_channels, kernel_size=1)\n",
        "\n",
        "    def forward(self, x):\n",
        "        return self.conv(x)\n",
        "  "
      ],
      "execution_count": 7,
      "outputs": []
    },
    {
      "cell_type": "code",
      "metadata": {
        "id": "IAvJKWJMd13o"
      },
      "source": [
        "\"\"\" Full assembly of the parts to form the complete network \"\"\"\n",
        "\n",
        "import torch.nn.functional as F\n",
        "\n",
        "\n",
        "class ConvVAE(pl.LightningModule):\n",
        "    def __init__(self, n_channels, bilinear=True):\n",
        "        super().__init__()\n",
        "        self.n_channels = n_channels\n",
        "        self.bilinear = bilinear\n",
        "        self.criterion = nn.BCELoss(reduction='sum')\n",
        "\n",
        "        self.inc = DoubleConv(n_channels, 8)\n",
        "        self.down1 = Down(8, 16)\n",
        "        self.down2 = Down(16, 32)\n",
        "        \n",
        "        factor = 2 if bilinear else 1\n",
        "        self.down3 = Down(32,20)\n",
        "\n",
        "        self.up1 = Up((20 + 32) // 2 , 25 , bilinear)\n",
        "        self.up2 = Up( 25 + 16 //2 , 25, bilinear)\n",
        "        self.up3 = Up(25  +  8 //2, 25, bilinear)\n",
        "        self.outc = OutConv(25, 1)\n",
        "    \n",
        "    def reparameterize(self, mu, log_var):\n",
        "      \"\"\"\n",
        "      :param mu: mean from the encoder's latent space\n",
        "      :param log_var: log variance from the encoder's latent space\n",
        "      \"\"\"\n",
        "      std = torch.exp(0.5*log_var) # standard deviation\n",
        "      eps = torch.randn_like(std) # `randn_like` as we need the same size\n",
        "      sample = mu + (eps * std) # sampling as if coming from the input space\n",
        "      return sample\n",
        "\n",
        "    \n",
        "    def forward(self, x,train=False):\n",
        "        x1 = self.inc(x)\n",
        "        x2 = self.down1(x1)\n",
        "        x3 = self.down2(x2)\n",
        "        x4 = self.down3(x3)\n",
        "\n",
        "\n",
        "        \n",
        "        ### Instead of of passing image we pass a modified version :\n",
        "        L  = [x1,x2,x3,x4]\n",
        "        mus,log_vars,samples = [],[],[]\n",
        "\n",
        "        #### We sample at each scale\n",
        "        for enc in L:\n",
        "          split = enc.size(1) //2\n",
        "          mu = enc[:,:split,:]\n",
        "          log_var = enc[:,split:,:]\n",
        "          samples.append(self.reparameterize(mu,log_var))\n",
        "          mus.append (mu)\n",
        "          log_vars.append(log_var)\n",
        "          \n",
        "          \n",
        "        \n",
        "\n",
        "        x_rec = self.up1(samples[-1], samples[-2])\n",
        "        x_rec = self.up2(x_rec, samples[-3])\n",
        "        x_rec = self.up3(x_rec, samples[-4])\n",
        "        x_hat = torch.sigmoid(self.outc(x_rec))\n",
        "        \n",
        "        if train: return x_hat,mus,log_vars\n",
        "\n",
        "        else    : \n",
        "          return x_hat\n",
        "    \n",
        "\n",
        "    def training_step(self, batch, batch_idx):\n",
        "        # training_step defined the train loop. It is independent of forward    \n",
        "        x, y = batch\n",
        "        x_hat,mu,log_var= self.forward(x,train=True)\n",
        "\n",
        "        BCE = self.criterion(x_hat,x)\n",
        "        KLD =0\n",
        "        ## Sum KL divergence penalty across all scales.\n",
        "        for m,l in zip(mu,log_var):\n",
        "          KLD += -0.5 * torch.sum(1 + l - m.pow(2) - l.exp())\n",
        "        \n",
        "        loss = BCE + KLD\n",
        "        self.log('train_loss', loss)\n",
        "        return loss \n",
        "         \n",
        "    def configure_optimizers(self):\n",
        "        optimizer = torch.optim.Adam(self.parameters(), lr=1e-3)\n",
        "        return optimizer\n",
        "      "
      ],
      "execution_count": 8,
      "outputs": []
    },
    {
      "cell_type": "code",
      "metadata": {
        "colab": {
          "base_uri": "https://localhost:8080/",
          "height": 1000,
          "referenced_widgets": [
            "2a8b29f3f4764c51acfab58fa6a8114e",
            "2f43aea498294378937de8466e9e80dd",
            "68dca1badee4411aa6d404ecc51d28c4",
            "6afd3fbaec3a4e09abd98179f13459b7",
            "90c2034e7fb843ddbcf76f2b7e60bd6d",
            "40e41c4da22d43d4bd0738fdd2a4d45e",
            "411d72a85a4b4a9db678140d0d691766",
            "690de6720d0b487884f05b54871877c5"
          ]
        },
        "id": "p5TpC28Ve8oL",
        "outputId": "320a2e6a-f889-42c2-9e77-69bd85bdd7ae"
      },
      "source": [
        "autoencoder = ConvVAE(1)\n",
        "trainer = pl.Trainer(gpus=1,max_epochs=n_epochs,callbacks=[plot_samples],overfit_batches=0.1)\n",
        "trainer.fit(autoencoder, train_loader)"
      ],
      "execution_count": 9,
      "outputs": [
        {
          "output_type": "stream",
          "text": [
            "/usr/local/lib/python3.6/dist-packages/pytorch_lightning/utilities/distributed.py:49: UserWarning: You have set progress_bar_refresh_rate < 20 on Google Colab. This may crash. Consider using progress_bar_refresh_rate >= 20 in Trainer.\n",
            "  warnings.warn(*args, **kwargs)\n",
            "GPU available: True, used: True\n",
            "TPU available: None, using: 0 TPU cores\n",
            "LOCAL_RANK: 0 - CUDA_VISIBLE_DEVICES: [0]\n",
            "\n",
            "  | Name      | Type       | Params\n",
            "-----------------------------------------\n",
            "0 | criterion | BCELoss    | 0     \n",
            "1 | inc       | DoubleConv | 696   \n",
            "2 | down1     | Down       | 3.6 K \n",
            "3 | down2     | Down       | 14.0 K\n",
            "4 | down3     | Down       | 9.5 K \n",
            "5 | up1       | Up         | 6.1 K \n",
            "6 | up2       | Up         | 8.5 K \n",
            "7 | up3       | Up         | 6.9 K \n",
            "8 | outc      | OutConv    | 26    \n",
            "-----------------------------------------\n",
            "49.2 K    Trainable params\n",
            "0         Non-trainable params\n",
            "49.2 K    Total params\n",
            "/usr/local/lib/python3.6/dist-packages/pytorch_lightning/utilities/distributed.py:49: UserWarning: You requested to overfit but enabled training dataloader shuffling. We are turning it off for you.\n",
            "  warnings.warn(*args, **kwargs)\n"
          ],
          "name": "stderr"
        },
        {
          "output_type": "display_data",
          "data": {
            "application/vnd.jupyter.widget-view+json": {
              "model_id": "2a8b29f3f4764c51acfab58fa6a8114e",
              "version_minor": 0,
              "version_major": 2
            },
            "text/plain": [
              "HBox(children=(FloatProgress(value=1.0, bar_style='info', description='Training', layout=Layout(flex='2'), max…"
            ]
          },
          "metadata": {
            "tags": []
          }
        },
        {
          "output_type": "stream",
          "text": [
            "Epoch NO:  80\n"
          ],
          "name": "stdout"
        },
        {
          "output_type": "display_data",
          "data": {
            "image/png": "[encoded data removed]",
            "text/plain": [
              "<Figure size 1440x720 with 16 Axes>"
            ]
          },
          "metadata": {
            "tags": []
          }
        },
        {
          "output_type": "stream",
          "text": [
            "Epoch NO:  80\n"
          ],
          "name": "stdout"
        },
        {
          "output_type": "display_data",
          "data": {
            "image/png": "[encoded data removed]",
            "text/plain": [
              "<Figure size 1440x720 with 16 Axes>"
            ]
          },
          "metadata": {
            "tags": []
          }
        },
        {
          "output_type": "stream",
          "text": [
            "\n"
          ],
          "name": "stdout"
        },
        {
          "output_type": "execute_result",
          "data": {
            "text/plain": [
              "1"
            ]
          },
          "metadata": {
            "tags": []
          },
          "execution_count": 9
        }
      ]
    }
  ]
}