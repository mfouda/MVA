{
  "nbformat": 4,
  "nbformat_minor": 0,
  "metadata": {
    "colab": {
      "name": "ALTEGRAD_2020_transfer_learning.ipynb",
      "provenance": [],
      "collapsed_sections": []
    },
    "kernelspec": {
      "name": "python3",
      "display_name": "Python 3"
    },
    "accelerator": "GPU"
  },
  "cells": [
    {
      "cell_type": "markdown",
      "metadata": {
        "id": "DlAfI8mCWAf3"
      },
      "source": [
        "# Transfer learning for NLP\n",
        "## ALTEGRAD - Lab session 3\n",
        "#### Moussa Kamal Eddine, Hadi Abdine (Dascim LIX)\n",
        "##### November 2020"
      ]
    },
    {
      "cell_type": "code",
      "metadata": {
        "id": "IqukuIe0Rb_c"
      },
      "source": [
        "import math\n",
        "\n",
        "import torch\n",
        "import torch.nn as nn\n",
        "from torch.nn.utils.rnn import pad_sequence\n",
        "\n",
        "device = torch.device(\"cuda\" if torch.cuda.is_available() else \"cpu\")"
      ],
      "execution_count": 18,
      "outputs": []
    },
    {
      "cell_type": "markdown",
      "metadata": {
        "id": "5FF6fjkqgN39"
      },
      "source": [
        "### The Model"
      ]
    },
    {
      "cell_type": "code",
      "metadata": {
        "id": "p0cj9WkSFQwl"
      },
      "source": [
        "class TransformerModel(nn.Module):\n",
        "    def __init__(self, ntoken, nhead, nhid, nlayers, dropout=0.5):\n",
        "        super(TransformerModel, self).__init__()\n",
        "        '''\n",
        "        ntokens: the size of vocabulary\n",
        "        nhid: the hidden dimension of the model.\n",
        "        We assume that embedding_dim = nhid\n",
        "        nlayers: the number of nn.TransformerEncoderLayer in nn.TransformerEncoder\n",
        "        nhead: the number of heads in the multiheadattention models\n",
        "        dropout: the dropout value\n",
        "         '''\n",
        "        self.model_type = \"Transformer\"\n",
        "        self.encoder = nn.Embedding(ntoken,nhid) # fill me, nhid = the dim_embed\n",
        "        self.pos_encoder = PositionalEncoding(nhid,dropout) #fill me, the PositionalEncoding class is implemented in the next cell\n",
        "        encoder_layers = nn.TransformerEncoderLayer(nhid,nhead,nhid,dropout) #fill me we assume nhid = d_model = dim_feedforward\n",
        "        self.transformer_encoder = nn.TransformerEncoder(encoder_layers,nlayers) #fill me\n",
        "        self.nhid = nhid\n",
        "        self.init_weights()\n",
        "\n",
        "    def generate_square_subsequent_mask(self, sz):\n",
        "        mask = (torch.triu(torch.ones(sz, sz)) == 1).transpose(0, 1)\n",
        "        mask = (\n",
        "            mask.float()\n",
        "            .masked_fill(mask == 0, float(\"-inf\"))\n",
        "            .masked_fill(mask == 1, float(0.0))\n",
        "        )\n",
        "        return mask\n",
        "\n",
        "    def init_weights(self):\n",
        "        initrange = 0.1\n",
        "        self.encoder.weight.data.uniform_(-initrange, initrange)\n",
        "\n",
        "    def forward(self, src, src_mask):\n",
        "        src = self.encoder(src) * math.sqrt(self.nhid) \n",
        "        src = self.pos_encoder(src)#fill me\n",
        "        output = self.transformer_encoder(src, src_mask)\n",
        "        return output\n",
        "\n",
        "\n",
        "class ClassificationHead(nn.Module):\n",
        "    def __init__(self, nhid, nclasses):\n",
        "        super(ClassificationHead, self).__init__()\n",
        "        self.decoder = nn.Linear(nhid,nclasses)#fill me)\n",
        "        self.init_weights()\n",
        "\n",
        "    def init_weights(self):\n",
        "        initrange = 0.1\n",
        "        self.decoder.bias.data.zero_()\n",
        "        self.decoder.weight.data.uniform_(-initrange, initrange)\n",
        "\n",
        "    def forward(self, src):\n",
        "        output = self.decoder(src)\n",
        "        return output\n",
        "    \n",
        "class Model(nn.Module):\n",
        "    def __init__(self, ntoken, nhead, nhid, nlayers, nclasses, dropout=0.5):\n",
        "        super(Model, self).__init__()\n",
        "        self.base = TransformerModel(ntoken, nhead, nhid, nlayers, dropout=0.5)#fill me\n",
        "        self.classifier = ClassificationHead(nhid,nclasses)#fill me \n",
        "\n",
        "    def forward(self, src, src_mask):\n",
        "        # base model\n",
        "        x = self.base(src,src_mask)#fill me\n",
        "        # classifier model\n",
        "        output = self.classifier(x)#fill me\n",
        "        return output"
      ],
      "execution_count": 19,
      "outputs": []
    },
    {
      "cell_type": "code",
      "metadata": {
        "id": "kt2QQohaFZry"
      },
      "source": [
        "class PositionalEncoding(nn.Module):\n",
        "    def __init__(self, nhid, dropout=0.1, max_len=5000):\n",
        "        super(PositionalEncoding, self).__init__()\n",
        "        self.dropout = nn.Dropout(p=dropout)\n",
        "\n",
        "        pe = torch.zeros(max_len, nhid)\n",
        "        position = torch.arange(0, max_len, dtype=torch.float).unsqueeze(1)\n",
        "        div_term = torch.exp(\n",
        "            torch.arange(0, nhid, 2).float() * (-math.log(10000.0) / nhid)\n",
        "        )\n",
        "        pe[:, 0::2] = torch.sin(position * div_term)\n",
        "        pe[:, 1::2] = torch.cos(position * div_term)\n",
        "        pe = pe.unsqueeze(0).transpose(0, 1)\n",
        "        self.register_buffer(\"pe\", pe)\n",
        "\n",
        "    def forward(self, x):\n",
        "        x = x + self.pe[: x.size(0), :]\n",
        "        return self.dropout(x)"
      ],
      "execution_count": 16,
      "outputs": []
    },
    {
      "cell_type": "markdown",
      "metadata": {
        "id": "SfEYHJx2JW6l"
      },
      "source": [
        "Let's verify if our model works, by applying one inference step"
      ]
    },
    {
      "cell_type": "code",
      "metadata": {
        "id": "rhb2gkUhJMR0",
        "colab": {
          "base_uri": "https://localhost:8080/"
        },
        "outputId": "4f7f615d-c60f-4f71-c767-3f5e510f81ba"
      },
      "source": [
        "ntokens = 100 #fill me # the size of vocabulary\n",
        "nhid = 200  # hidden dimension\n",
        "nlayers = 4  # the number of nn.TransformerEncoderLayer in nn.TransformerEncoder\n",
        "nhead = 2  # the number of heads in the multiheadattention models\n",
        "dropout = 0  # the dropout value\n",
        "\n",
        "model = Model(ntokens, nhead, nhid, nlayers, ntokens, dropout).to(device)\n",
        "dummy_input = torch.tensor([[2, 6, 2, 5, 43, 21]]).to(device)\n",
        "src_mask = model.base.generate_square_subsequent_mask(1).to(device)\n",
        "out = model.forward(dummy_input, src_mask)\n",
        "\n",
        "print(out.shape) # is it the right shape?"
      ],
      "execution_count": 17,
      "outputs": [
        {
          "output_type": "stream",
          "text": [
            "torch.Size([1, 6, 100])\n"
          ],
          "name": "stdout"
        }
      ]
    },
    {
      "cell_type": "markdown",
      "metadata": {
        "id": "i74NN897Fcit"
      },
      "source": [
        "## Vocabulary and Tokenization"
      ]
    },
    {
      "cell_type": "code",
      "metadata": {
        "id": "5qjd26ghWuff",
        "colab": {
          "base_uri": "https://localhost:8080/"
        },
        "outputId": "d90ac582-d682-44e2-d299-4c2492006709"
      },
      "source": [
        "!wget https://raw.githubusercontent.com/moussaKam/transfer_learning_transformers/main/dict.txt\n",
        "!head -5 dict.txt"
      ],
      "execution_count": 6,
      "outputs": [
        {
          "output_type": "stream",
          "text": [
            "--2020-12-04 15:09:36--  https://raw.githubusercontent.com/moussaKam/transfer_learning_transformers/main/dict.txt\n",
            "Resolving raw.githubusercontent.com (raw.githubusercontent.com)... 151.101.0.133, 151.101.64.133, 151.101.128.133, ...\n",
            "Connecting to raw.githubusercontent.com (raw.githubusercontent.com)|151.101.0.133|:443... connected.\n",
            "HTTP request sent, awaiting response... 200 OK\n",
            "Length: 577587 (564K) [text/plain]\n",
            "Saving to: ‘dict.txt’\n",
            "\n",
            "dict.txt            100%[===================>] 564.05K  --.-KB/s    in 0.03s   \n",
            "\n",
            "2020-12-04 15:09:36 (18.2 MB/s) - ‘dict.txt’ saved [577587/577587]\n",
            "\n",
            "▁d 1\n",
            "es 1\n",
            "▁l 1\n",
            "en 1\n",
            "on 1\n"
          ],
          "name": "stdout"
        }
      ]
    },
    {
      "cell_type": "code",
      "metadata": {
        "id": "vFdH_-JeFbGA",
        "colab": {
          "base_uri": "https://localhost:8080/"
        },
        "outputId": "a909cb7a-0f58-41d1-ac36-ce24ec0ee58a"
      },
      "source": [
        "path_vocab = \"dict.txt\"\n",
        "token2ind = {\"<sos>\": 0, \"<pad>\": 1, \"<eos>\": 2, \"<oov>\": 3} # the 4 first indices are reserved to special tokens\n",
        "with open(path_vocab, \"r\") as f:\n",
        "    for idx, line in enumerate(f):\n",
        "        word = line.split()[0].strip()\n",
        "        token2ind[word] = idx+4 #fill me\n",
        "\n",
        "ind2token = dict(zip(token2ind.values(),token2ind.keys()))\n",
        "\n",
        "print(ind2token[1111])"
      ],
      "execution_count": 35,
      "outputs": [
        {
          "output_type": "stream",
          "text": [
            "▁trop\n"
          ],
          "name": "stdout"
        }
      ]
    },
    {
      "cell_type": "markdown",
      "metadata": {
        "id": "XOExGODajN8p"
      },
      "source": [
        "### Data Loader\n"
      ]
    },
    {
      "cell_type": "code",
      "metadata": {
        "id": "Y0jN-Ar9i5Q1"
      },
      "source": [
        "import numpy\n",
        "import torch\n",
        "from torch.nn.utils.rnn import pad_sequence\n",
        "from torch.utils.data import DataLoader, Dataset\n",
        "\n",
        "\n",
        "class Dataset(Dataset):\n",
        "    def __init__(\n",
        "        self,\n",
        "        path_documents,\n",
        "        path_labels=None,\n",
        "        token2ind={},\n",
        "        max_len=512,\n",
        "        task=\"language_modeling\",\n",
        "    ):\n",
        "        self.task = task\n",
        "        self.max_len = max_len\n",
        "        self.token2ind = token2ind\n",
        "        self.documents = []\n",
        "        self.labels = []\n",
        "        with open(path_documents, \"r\") as f1:\n",
        "            for line in f1:\n",
        "                self.documents.append(line.strip())\n",
        "        if task == \"classification\":\n",
        "            with open(path_labels, \"r\") as f1:\n",
        "                for line in f1:\n",
        "                    self.labels.append(int(line.strip()))\n",
        "            assert len(self.labels) == len(self.documents)\n",
        "\n",
        "    def __len__(self):\n",
        "        return len(self.documents)\n",
        "\n",
        "    def __getitem__(self, index):\n",
        "        sequence = self.documents[index].split()\n",
        "        if len(sequence) > self.max_len - 1:\n",
        "            sequence = sequence[: self.max_len - 1]\n",
        "        source_sequence = [self.token2ind[\"<sos>\"]] + [\n",
        "            self.token2ind[word] if word in self.token2ind else self.token2ind[\"<oov>\"]\n",
        "            for word in sequence[: self.max_len]\n",
        "        ]\n",
        "        if self.task == \"language_modeling\":\n",
        "            target = source_sequence[1:]\n",
        "            target.append(self.token2ind[\"<eos>\"])\n",
        "        elif self.task == \"classification\":\n",
        "            target = [self.labels[index]]\n",
        "        sample = {\n",
        "            \"source_sequence\": torch.tensor(source_sequence),\n",
        "            \"target\": torch.tensor(target),\n",
        "        }\n",
        "        return sample\n",
        "\n",
        "\n",
        "def MyCollator(batch):\n",
        "    source_sequences = pad_sequence(\n",
        "        #we use padding to match the length of the sequences in the same batch\n",
        "        [sample[\"source_sequence\"] for sample in batch], padding_value=token2ind[\"<pad>\"]\n",
        "    )\n",
        "    target = pad_sequence(\n",
        "        [sample[\"target\"] for sample in batch], padding_value=token2ind[\"<pad>\"]\n",
        "    )\n",
        "    return source_sequences, target.reshape(-1)\n",
        "\n",
        "\n",
        "def get_loader(\n",
        "    path_documents,\n",
        "    path_labels=None,\n",
        "    token2ind={},\n",
        "    max_len=512,\n",
        "    batch_size=32,\n",
        "    task=\"language_modeling\",\n",
        "):\n",
        "    dataset = Dataset(\n",
        "        path_documents,\n",
        "        path_labels=path_labels,\n",
        "        token2ind=token2ind,\n",
        "        max_len=512,\n",
        "        task=task,\n",
        "    )\n",
        "    data_loader = DataLoader(\n",
        "        dataset=dataset,\n",
        "        batch_size=batch_size,\n",
        "        shuffle=True,\n",
        "        collate_fn=MyCollator,\n",
        "        pin_memory=True,\n",
        "        drop_last=True,\n",
        "    )\n",
        "    return data_loader"
      ],
      "execution_count": 36,
      "outputs": []
    },
    {
      "cell_type": "markdown",
      "metadata": {
        "id": "uTns4lHrjUTa"
      },
      "source": [
        "## The Training"
      ]
    },
    {
      "cell_type": "code",
      "metadata": {
        "id": "4_jwosiLjRsS"
      },
      "source": [
        "def train(\n",
        "    path_data_train,\n",
        "    path_labels_train=None,\n",
        "    path_data_valid=None,\n",
        "    save_interval=-1,\n",
        "    log_interval=5,\n",
        "    task=\"language_modeling\",\n",
        "    batch_size=32,\n",
        "):\n",
        "    model.train()\n",
        "    total_loss = 0.0\n",
        "    ntokens = len(token2ind)\n",
        "    data_loader = get_loader(\n",
        "        path_data_train,\n",
        "        path_labels_train,\n",
        "        token2ind,\n",
        "        task=task,\n",
        "        batch_size=batch_size,\n",
        "    )\n",
        "    \n",
        "    losses = []\n",
        "    for idx, data in enumerate(data_loader): #step 1\n",
        "        optimizer.zero_grad()\n",
        "        src_mask = model.base.generate_square_subsequent_mask(data[0].size(0)).to(\n",
        "            device\n",
        "        )\n",
        "        input = data[0].to(device)\n",
        "        output = model(input, src_mask) #step 2\n",
        "        if task == 'classification':\n",
        "            #last vector only\n",
        "            \n",
        "            output = output[-1]#fill me  ##### WATCHOUT FOR ERRORS\n",
        "\n",
        "            # output shape before reshape == torch.Size([190, 8, 2])\n",
        "            # output shape after reshape == torch.Size([8, 2])\n",
        "            # target shape== torch.Size([8])\n",
        "                \n",
        "\n",
        "\n",
        "        output = output.view(-1, output.shape[-1])\n",
        "        target =  data[1] #fill me ## maybe will need a reshape\n",
        "        target = target.to(device)\n",
        "\n",
        "     \n",
        "        loss =  criterion(output,target) #fill me, Cross entropy check next cells\n",
        "        #fill me step 3\n",
        "        loss.backward()\n",
        "\n",
        "        torch.nn.utils.clip_grad_norm_(model.parameters(), 0.5) # prevent exploding gradient \n",
        "        #fill me step 4\n",
        "        optimizer.step()\n",
        "\n",
        "        total_loss += loss.item() \n",
        "        if idx % log_interval == 0 and idx > 0:\n",
        "            cur_loss = total_loss / log_interval\n",
        "            print(\n",
        "                \"| epoch {:3d} | {:5d}/{:5d} steps | \"\n",
        "                \"loss {:5.5f} | ppl {:8.3f}\".format(\n",
        "                    epoch, idx, len(data_loader), cur_loss, math.exp(cur_loss),\n",
        "                )\n",
        "            )\n",
        "            losses.append(cur_loss)\n",
        "            total_loss = 0\n",
        "    return losses"
      ],
      "execution_count": 180,
      "outputs": []
    },
    {
      "cell_type": "code",
      "metadata": {
        "id": "pgf6BDB9jUr6"
      },
      "source": [
        "ntokens = len(ind2token) #fill me # the size of vocabulary\n",
        "nhid = 200  # the dimension of the feedforward network model in nn.TransformerEncoder\n",
        "nlayers = 4  # the number of nn.TransformerEncoderLayer in nn.TransformerEncoder\n",
        "nhead = 2  # the number of heads in the multiheadattention models\n",
        "dropout = 0  # the dropout value\n",
        "\n",
        "nclasses = 2 # for classification task only\n",
        "\n",
        "model = Model(ntokens, nhead, nhid, nlayers, ntokens, dropout).to(device)"
      ],
      "execution_count": 181,
      "outputs": []
    },
    {
      "cell_type": "code",
      "metadata": {
        "id": "u-OLy4KIkDwf"
      },
      "source": [
        "# optimization paramerters\n",
        "\n",
        "criterion = nn.CrossEntropyLoss(ignore_index=token2ind['<pad>'])\n",
        "lr = 0.0003  # learning rate\n",
        "optimizer = torch.optim.Adam(model.parameters(), lr=lr)"
      ],
      "execution_count": 182,
      "outputs": []
    },
    {
      "cell_type": "code",
      "metadata": {
        "id": "Bwh3n9xZQy4e",
        "colab": {
          "base_uri": "https://localhost:8080/"
        },
        "outputId": "71b8ebd5-adb1-43e6-e7b8-0e778ffebc97"
      },
      "source": [
        "!wget https://raw.githubusercontent.com/moussaKam/transfer_learning_transformers/main/pretraining_subset.txt\n",
        "path_data_train = \"pretraining_subset.txt\""
      ],
      "execution_count": 183,
      "outputs": [
        {
          "output_type": "stream",
          "text": [
            "--2020-12-04 20:06:38--  https://raw.githubusercontent.com/moussaKam/transfer_learning_transformers/main/pretraining_subset.txt\n",
            "Resolving raw.githubusercontent.com (raw.githubusercontent.com)... 151.101.0.133, 151.101.64.133, 151.101.128.133, ...\n",
            "Connecting to raw.githubusercontent.com (raw.githubusercontent.com)|151.101.0.133|:443... connected.\n",
            "HTTP request sent, awaiting response... 200 OK\n",
            "Length: 10146460 (9.7M) [text/plain]\n",
            "Saving to: ‘pretraining_subset.txt.5’\n",
            "\n",
            "pretraining_subset. 100%[===================>]   9.68M  56.3MB/s    in 0.2s    \n",
            "\n",
            "2020-12-04 20:06:39 (56.3 MB/s) - ‘pretraining_subset.txt.5’ saved [10146460/10146460]\n",
            "\n"
          ],
          "name": "stdout"
        }
      ]
    },
    {
      "cell_type": "code",
      "metadata": {
        "id": "0m11g4ScjZaR",
        "colab": {
          "base_uri": "https://localhost:8080/"
        },
        "outputId": "54d46399-1ac8-451f-8044-1575e05bb841"
      },
      "source": [
        "#pretraining on a tiny subset\n",
        "log_interval = 500\n",
        "epochs = 2\n",
        "for epoch in range(1, epochs + 1): #5\n",
        "    train(\n",
        "        path_data_train,\n",
        "        save_interval=-1,\n",
        "        task=\"language_modeling\",\n",
        "        batch_size=16,\n",
        "        log_interval=log_interval,\n",
        "    )"
      ],
      "execution_count": 184,
      "outputs": [
        {
          "output_type": "stream",
          "text": [
            "| epoch   1 |   500/ 3125 steps | loss 7.73123 | ppl 2278.406\n",
            "| epoch   1 |  1000/ 3125 steps | loss 7.02145 | ppl 1120.413\n",
            "| epoch   1 |  1500/ 3125 steps | loss 6.77792 | ppl  878.242\n",
            "| epoch   1 |  2000/ 3125 steps | loss 6.60763 | ppl  740.728\n",
            "| epoch   1 |  2500/ 3125 steps | loss 6.46353 | ppl  641.321\n",
            "| epoch   1 |  3000/ 3125 steps | loss 6.37475 | ppl  586.837\n",
            "| epoch   2 |   500/ 3125 steps | loss 6.18118 | ppl  483.562\n",
            "| epoch   2 |  1000/ 3125 steps | loss 6.09614 | ppl  444.140\n",
            "| epoch   2 |  1500/ 3125 steps | loss 6.07966 | ppl  436.879\n",
            "| epoch   2 |  2000/ 3125 steps | loss 6.04549 | ppl  422.203\n",
            "| epoch   2 |  2500/ 3125 steps | loss 5.99158 | ppl  400.047\n",
            "| epoch   2 |  3000/ 3125 steps | loss 5.96887 | ppl  391.063\n"
          ],
          "name": "stdout"
        }
      ]
    },
    {
      "cell_type": "markdown",
      "metadata": {
        "id": "MeOM1dOvkO4e"
      },
      "source": [
        "## Text Generation\n"
      ]
    },
    {
      "cell_type": "code",
      "metadata": {
        "id": "-BcBC6FSkMH3",
        "colab": {
          "base_uri": "https://localhost:8080/"
        },
        "outputId": "680ec824-462f-433f-a131-c6925fddd3f4"
      },
      "source": [
        "!wget https://raw.githubusercontent.com/moussaKam/transfer_learning_transformers/main/pretrained_model_4layers.pt\n",
        "\n",
        "model = Model(ntokens, nhead, nhid, nlayers, ntokens).to(device)\n",
        "\n",
        "#load the checkpoint\n",
        "checkpoint = torch.load('pretrained_model_4layers.pt') \n",
        "#load state dict\n",
        "model.load_state_dict(checkpoint['model_state_dict']) "
      ],
      "execution_count": 185,
      "outputs": [
        {
          "output_type": "stream",
          "text": [
            "--2020-12-04 20:10:42--  https://raw.githubusercontent.com/moussaKam/transfer_learning_transformers/main/pretrained_model_4layers.pt\n",
            "Resolving raw.githubusercontent.com (raw.githubusercontent.com)... 151.101.0.133, 151.101.64.133, 151.101.128.133, ...\n",
            "Connecting to raw.githubusercontent.com (raw.githubusercontent.com)|151.101.0.133|:443... connected.\n",
            "HTTP request sent, awaiting response... 200 OK\n",
            "Length: 88093955 (84M) [application/octet-stream]\n",
            "Saving to: ‘pretrained_model_4layers.pt.5’\n",
            "\n",
            "pretrained_model_4l 100%[===================>]  84.01M   183MB/s    in 0.5s    \n",
            "\n",
            "2020-12-04 20:10:43 (183 MB/s) - ‘pretrained_model_4layers.pt.5’ saved [88093955/88093955]\n",
            "\n"
          ],
          "name": "stdout"
        },
        {
          "output_type": "execute_result",
          "data": {
            "text/plain": [
              "<All keys matched successfully>"
            ]
          },
          "metadata": {
            "tags": []
          },
          "execution_count": 185
        }
      ]
    },
    {
      "cell_type": "code",
      "metadata": {
        "id": "tBRRVsWqlIoQ",
        "colab": {
          "base_uri": "https://localhost:8080/"
        },
        "outputId": "2540ccdc-2ce7-4074-e513-8b85688ec9c1"
      },
      "source": [
        "!pip install sentencepiece\n",
        "!wget https://raw.githubusercontent.com/moussaKam/transfer_learning_transformers/main/sentencepiece.french.model\n",
        "\n",
        "import sentencepiece as spm\n",
        "\n",
        "s = spm.SentencePieceProcessor(model_file='sentencepiece.french.model') #load sentencepiece model\n",
        "\n",
        "#examples\n",
        "encoded = s.encode_as_pieces(\"Bonjour les amis!\")\n",
        "decoded = s.decode_pieces(encoded)\n",
        "print(encoded)\n",
        "print(decoded)"
      ],
      "execution_count": 186,
      "outputs": [
        {
          "output_type": "stream",
          "text": [
            "Requirement already satisfied: sentencepiece in /usr/local/lib/python3.6/dist-packages (0.1.94)\n",
            "--2020-12-04 20:10:46--  https://raw.githubusercontent.com/moussaKam/transfer_learning_transformers/main/sentencepiece.french.model\n",
            "Resolving raw.githubusercontent.com (raw.githubusercontent.com)... 151.101.0.133, 151.101.64.133, 151.101.128.133, ...\n",
            "Connecting to raw.githubusercontent.com (raw.githubusercontent.com)|151.101.0.133|:443... connected.\n",
            "HTTP request sent, awaiting response... 200 OK\n",
            "Length: 1115362 (1.1M) [application/octet-stream]\n",
            "Saving to: ‘sentencepiece.french.model.4’\n",
            "\n",
            "sentencepiece.frenc 100%[===================>]   1.06M  --.-KB/s    in 0.04s   \n",
            "\n",
            "2020-12-04 20:10:46 (29.1 MB/s) - ‘sentencepiece.french.model.4’ saved [1115362/1115362]\n",
            "\n",
            "['▁Bonjour', '▁les', '▁amis', '!']\n",
            "Bonjour les amis!\n"
          ],
          "name": "stdout"
        }
      ]
    },
    {
      "cell_type": "code",
      "metadata": {
        "id": "TtLlV05pkQI3"
      },
      "source": [
        "def infer_next_token(sent):\n",
        "    model.eval()\n",
        "    sent_pieces = s.encode_as_pieces(sent)\n",
        "    source = [token2ind['<sos>']] + [token2ind[el] for el in sent_pieces]\n",
        "    source = torch.tensor(source).to(device)\n",
        "    source = source.reshape(-1, 1)\n",
        "    src_mask = model.base.generate_square_subsequent_mask(source.size(0)).to(device)\n",
        "    out = model(source, src_mask)\n",
        "    next_token_ind = out[-1].argmax(-1)\n",
        "    return next_token_ind, out\n",
        "    \n",
        "def infer_next_tokens(sent, max_len=50):\n",
        "    # to be implemented\n",
        "    i=0\n",
        "\n",
        "    while i <= max_len:\n",
        "\n",
        "      next_token_ind,_ = infer_next_token(sent)\n",
        "\n",
        "      next_word = ind2token[int(next_token_ind.cpu().detach().numpy())]\n",
        "      sent += next_word\n",
        "      i+=1\n",
        "      if next_word == '<eos>':\n",
        "        break\n",
        "    \n",
        "    print(sent)"
      ],
      "execution_count": 187,
      "outputs": []
    },
    {
      "cell_type": "code",
      "metadata": {
        "id": "f83Nn5nSly4v",
        "colab": {
          "base_uri": "https://localhost:8080/"
        },
        "outputId": "4307b624-9eaf-4ada-ebae-d35712e36415"
      },
      "source": [
        "sent = \"Bonjour les\"\n",
        "infer_next_tokens(sent)"
      ],
      "execution_count": 188,
      "outputs": [
        {
          "output_type": "stream",
          "text": [
            "Bonjour les▁gens▁qui▁ont▁été▁très▁accueillants▁et▁sympathiques.<eos>\n"
          ],
          "name": "stdout"
        }
      ]
    },
    {
      "cell_type": "markdown",
      "metadata": {
        "id": "Lp7mjVzomoZ3"
      },
      "source": [
        "### Supervised task"
      ]
    },
    {
      "cell_type": "code",
      "metadata": {
        "id": "0K1BZsblmEmx",
        "colab": {
          "base_uri": "https://localhost:8080/"
        },
        "outputId": "ed801997-d564-4019-ab0d-c031d0f6f27c"
      },
      "source": [
        "!wget https://raw.githubusercontent.com/moussaKam/transfer_learning_transformers/main/cls-books/train.review.spm\n",
        "!wget https://raw.githubusercontent.com/moussaKam/transfer_learning_transformers/main/cls-books/train.label\n",
        "!wget https://raw.githubusercontent.com/moussaKam/transfer_learning_transformers/main/cls-books/test.review.spm\n",
        "!wget https://raw.githubusercontent.com/moussaKam/transfer_learning_transformers/main/cls-books/test.label\n",
        "\n",
        "path_data_train = \"train.review.spm\"\n",
        "path_labels_train = \"train.label\"\n",
        "\n",
        "path_data_valid = \"test.review.spm\"\n",
        "path_labels_valid = \"test.label\""
      ],
      "execution_count": 189,
      "outputs": [
        {
          "output_type": "stream",
          "text": [
            "--2020-12-04 20:10:46--  https://raw.githubusercontent.com/moussaKam/transfer_learning_transformers/main/cls-books/train.review.spm\n",
            "Resolving raw.githubusercontent.com (raw.githubusercontent.com)... 151.101.0.133, 151.101.64.133, 151.101.128.133, ...\n",
            "Connecting to raw.githubusercontent.com (raw.githubusercontent.com)|151.101.0.133|:443... connected.\n",
            "HTTP request sent, awaiting response... 200 OK\n",
            "Length: 1495960 (1.4M) [text/plain]\n",
            "Saving to: ‘train.review.spm.3’\n",
            "\n",
            "train.review.spm.3  100%[===================>]   1.43M  --.-KB/s    in 0.05s   \n",
            "\n",
            "2020-12-04 20:10:46 (26.2 MB/s) - ‘train.review.spm.3’ saved [1495960/1495960]\n",
            "\n",
            "--2020-12-04 20:10:46--  https://raw.githubusercontent.com/moussaKam/transfer_learning_transformers/main/cls-books/train.label\n",
            "Resolving raw.githubusercontent.com (raw.githubusercontent.com)... 151.101.0.133, 151.101.64.133, 151.101.128.133, ...\n",
            "Connecting to raw.githubusercontent.com (raw.githubusercontent.com)|151.101.0.133|:443... connected.\n",
            "HTTP request sent, awaiting response... 200 OK\n",
            "Length: 3200 (3.1K) [text/plain]\n",
            "Saving to: ‘train.label.3’\n",
            "\n",
            "train.label.3       100%[===================>]   3.12K  --.-KB/s    in 0s      \n",
            "\n",
            "2020-12-04 20:10:47 (71.6 MB/s) - ‘train.label.3’ saved [3200/3200]\n",
            "\n",
            "--2020-12-04 20:10:47--  https://raw.githubusercontent.com/moussaKam/transfer_learning_transformers/main/cls-books/test.review.spm\n",
            "Resolving raw.githubusercontent.com (raw.githubusercontent.com)... 151.101.0.133, 151.101.64.133, 151.101.128.133, ...\n",
            "Connecting to raw.githubusercontent.com (raw.githubusercontent.com)|151.101.0.133|:443... connected.\n",
            "HTTP request sent, awaiting response... 200 OK\n",
            "Length: 1864544 (1.8M) [text/plain]\n",
            "Saving to: ‘test.review.spm.3’\n",
            "\n",
            "test.review.spm.3   100%[===================>]   1.78M  --.-KB/s    in 0.03s   \n",
            "\n",
            "2020-12-04 20:10:47 (51.0 MB/s) - ‘test.review.spm.3’ saved [1864544/1864544]\n",
            "\n",
            "--2020-12-04 20:10:47--  https://raw.githubusercontent.com/moussaKam/transfer_learning_transformers/main/cls-books/test.label\n",
            "Resolving raw.githubusercontent.com (raw.githubusercontent.com)... 151.101.0.133, 151.101.64.133, 151.101.128.133, ...\n",
            "Connecting to raw.githubusercontent.com (raw.githubusercontent.com)|151.101.0.133|:443... connected.\n",
            "HTTP request sent, awaiting response... 200 OK\n",
            "Length: 4000 (3.9K) [text/plain]\n",
            "Saving to: ‘test.label.3’\n",
            "\n",
            "test.label.3        100%[===================>]   3.91K  --.-KB/s    in 0s      \n",
            "\n",
            "2020-12-04 20:10:47 (26.3 MB/s) - ‘test.label.3’ saved [4000/4000]\n",
            "\n"
          ],
          "name": "stdout"
        }
      ]
    },
    {
      "cell_type": "code",
      "metadata": {
        "id": "_MLfvjiom2SL"
      },
      "source": [
        "# a function to evaluate the validation accuracy of the model.\n",
        "def evaluate_accuracy(data_loader):\n",
        "    #to be implemented\n",
        "\n",
        "    correct = 0\n",
        "    total = 0\n",
        "    for data in data_loader:\n",
        "\n",
        "      src = data[0].to(device)\n",
        "      src_mask = model.base.generate_square_subsequent_mask(data[0].size(0)).to(device)\n",
        "      targets = data[1].to(device)\n",
        "\n",
        "      outputs = model(src,src_mask)\n",
        "\n",
        "\n",
        "      \n",
        "      _, predictions = torch.max(outputs.data[-1], 1)\n",
        "\n",
        "      correct += (predictions == targets).sum().item()\n",
        "\n",
        "      total += targets.size(0)\n",
        "      \n",
        "\n",
        "    print('your accuracy is ',correct/total)\n",
        "    return correct/total\n",
        "    "
      ],
      "execution_count": 190,
      "outputs": []
    },
    {
      "cell_type": "code",
      "metadata": {
        "id": "qzmx7T7xoa6v"
      },
      "source": [
        "#save the base model to be loaded later in the fine-tuning phase\n",
        "torch.save({\"model_state_dict\": model.base.state_dict(),}, \"pretrained_model_4layers_no_class_head.pt\")"
      ],
      "execution_count": 191,
      "outputs": []
    },
    {
      "cell_type": "code",
      "metadata": {
        "id": "i-xclMCpnVpw",
        "colab": {
          "base_uri": "https://localhost:8080/"
        },
        "outputId": "f933fa99-0e31-475a-878a-a6f541bb10fa"
      },
      "source": [
        "from_scratch_settings = [True, False]\n",
        "\n",
        "from_scratch_valid_acc = []\n",
        "pretrained_valid_acc = []\n",
        "lr = 0.0001\n",
        "\n",
        "for from_scratch in from_scratch_settings:\n",
        "    model = Model(ntokens, nhead, nhid, nlayers, 2, dropout).to(device)\n",
        "    criterion = nn.CrossEntropyLoss()\n",
        "    optimizer = torch.optim.Adam(model.parameters(), lr=lr)\n",
        "    if not from_scratch:\n",
        "        print(\"=====PRETRAINED MODEL======\")\n",
        "        #load checkpoint\n",
        "        checkpoint = torch.load(\"pretrained_model_4layers_no_class_head.pt\")\n",
        "        #load state dict\n",
        "        model.base.load_state_dict(checkpoint['model_state_dict'])\n",
        "    else:\n",
        "        print(\"=====Trainig FROM SCRATCH======\")\n",
        "    epochs = 30\n",
        "    for epoch in range(1, epochs + 1):\n",
        "        train(\n",
        "            path_data_train,\n",
        "            path_labels_train,\n",
        "            save_interval=-1,\n",
        "            task='classification',\n",
        "            batch_size=8,\n",
        "            log_interval=50,\n",
        "        )\n",
        "        acc = evaluate_accuracy(\n",
        "            get_loader(\n",
        "                path_data_valid,\n",
        "                path_labels_valid,\n",
        "                token2ind=token2ind,\n",
        "                batch_size=20,\n",
        "                task='classification',\n",
        "            )\n",
        "        )\n",
        "        if from_scratch:\n",
        "            from_scratch_valid_acc.append(acc)\n",
        "        else:\n",
        "            pretrained_valid_acc.append(acc)\n",
        "    print()"
      ],
      "execution_count": 216,
      "outputs": [
        {
          "output_type": "stream",
          "text": [
            "=====Trainig FROM SCRATCH======\n",
            "| epoch   1 |    50/  200 steps | loss 0.82335 | ppl    2.278\n",
            "| epoch   1 |   100/  200 steps | loss 0.78218 | ppl    2.186\n",
            "| epoch   1 |   150/  200 steps | loss 0.75907 | ppl    2.136\n",
            "your accuracy is  0.519\n",
            "| epoch   2 |    50/  200 steps | loss 0.76976 | ppl    2.159\n",
            "| epoch   2 |   100/  200 steps | loss 0.76490 | ppl    2.149\n",
            "| epoch   2 |   150/  200 steps | loss 0.74643 | ppl    2.109\n",
            "your accuracy is  0.4925\n",
            "| epoch   3 |    50/  200 steps | loss 0.76834 | ppl    2.156\n",
            "| epoch   3 |   100/  200 steps | loss 0.73360 | ppl    2.083\n",
            "| epoch   3 |   150/  200 steps | loss 0.73987 | ppl    2.096\n",
            "your accuracy is  0.519\n",
            "| epoch   4 |    50/  200 steps | loss 0.73472 | ppl    2.085\n",
            "| epoch   4 |   100/  200 steps | loss 0.71131 | ppl    2.037\n",
            "| epoch   4 |   150/  200 steps | loss 0.67662 | ppl    1.967\n",
            "your accuracy is  0.585\n",
            "| epoch   5 |    50/  200 steps | loss 0.64950 | ppl    1.915\n",
            "| epoch   5 |   100/  200 steps | loss 0.59510 | ppl    1.813\n",
            "| epoch   5 |   150/  200 steps | loss 0.62314 | ppl    1.865\n",
            "your accuracy is  0.651\n",
            "| epoch   6 |    50/  200 steps | loss 0.45698 | ppl    1.579\n",
            "| epoch   6 |   100/  200 steps | loss 0.52434 | ppl    1.689\n",
            "| epoch   6 |   150/  200 steps | loss 0.51911 | ppl    1.681\n",
            "your accuracy is  0.6995\n",
            "| epoch   7 |    50/  200 steps | loss 0.34362 | ppl    1.410\n",
            "| epoch   7 |   100/  200 steps | loss 0.39630 | ppl    1.486\n",
            "| epoch   7 |   150/  200 steps | loss 0.32587 | ppl    1.385\n",
            "your accuracy is  0.7015\n",
            "| epoch   8 |    50/  200 steps | loss 0.28441 | ppl    1.329\n",
            "| epoch   8 |   100/  200 steps | loss 0.27228 | ppl    1.313\n",
            "| epoch   8 |   150/  200 steps | loss 0.25402 | ppl    1.289\n",
            "your accuracy is  0.6985\n",
            "| epoch   9 |    50/  200 steps | loss 0.21126 | ppl    1.235\n",
            "| epoch   9 |   100/  200 steps | loss 0.23263 | ppl    1.262\n",
            "| epoch   9 |   150/  200 steps | loss 0.26944 | ppl    1.309\n",
            "your accuracy is  0.7035\n",
            "| epoch  10 |    50/  200 steps | loss 0.14921 | ppl    1.161\n",
            "| epoch  10 |   100/  200 steps | loss 0.26459 | ppl    1.303\n",
            "| epoch  10 |   150/  200 steps | loss 0.19207 | ppl    1.212\n",
            "your accuracy is  0.743\n",
            "| epoch  11 |    50/  200 steps | loss 0.13011 | ppl    1.139\n",
            "| epoch  11 |   100/  200 steps | loss 0.09248 | ppl    1.097\n",
            "| epoch  11 |   150/  200 steps | loss 0.11209 | ppl    1.119\n",
            "your accuracy is  0.729\n",
            "| epoch  12 |    50/  200 steps | loss 0.21079 | ppl    1.235\n",
            "| epoch  12 |   100/  200 steps | loss 0.10807 | ppl    1.114\n",
            "| epoch  12 |   150/  200 steps | loss 0.18210 | ppl    1.200\n",
            "your accuracy is  0.7405\n",
            "| epoch  13 |    50/  200 steps | loss 0.15468 | ppl    1.167\n",
            "| epoch  13 |   100/  200 steps | loss 0.11201 | ppl    1.119\n",
            "| epoch  13 |   150/  200 steps | loss 0.12082 | ppl    1.128\n",
            "your accuracy is  0.7215\n",
            "| epoch  14 |    50/  200 steps | loss 0.09121 | ppl    1.096\n",
            "| epoch  14 |   100/  200 steps | loss 0.17219 | ppl    1.188\n",
            "| epoch  14 |   150/  200 steps | loss 0.07888 | ppl    1.082\n",
            "your accuracy is  0.7475\n",
            "| epoch  15 |    50/  200 steps | loss 0.07645 | ppl    1.079\n",
            "| epoch  15 |   100/  200 steps | loss 0.10520 | ppl    1.111\n",
            "| epoch  15 |   150/  200 steps | loss 0.07394 | ppl    1.077\n",
            "your accuracy is  0.746\n",
            "| epoch  16 |    50/  200 steps | loss 0.05347 | ppl    1.055\n",
            "| epoch  16 |   100/  200 steps | loss 0.06664 | ppl    1.069\n",
            "| epoch  16 |   150/  200 steps | loss 0.05180 | ppl    1.053\n",
            "your accuracy is  0.746\n",
            "| epoch  17 |    50/  200 steps | loss 0.06262 | ppl    1.065\n",
            "| epoch  17 |   100/  200 steps | loss 0.05747 | ppl    1.059\n",
            "| epoch  17 |   150/  200 steps | loss 0.08783 | ppl    1.092\n",
            "your accuracy is  0.7485\n",
            "| epoch  18 |    50/  200 steps | loss 0.11005 | ppl    1.116\n",
            "| epoch  18 |   100/  200 steps | loss 0.05008 | ppl    1.051\n",
            "| epoch  18 |   150/  200 steps | loss 0.09064 | ppl    1.095\n",
            "your accuracy is  0.7475\n",
            "| epoch  19 |    50/  200 steps | loss 0.05872 | ppl    1.060\n",
            "| epoch  19 |   100/  200 steps | loss 0.07123 | ppl    1.074\n",
            "| epoch  19 |   150/  200 steps | loss 0.04904 | ppl    1.050\n",
            "your accuracy is  0.7455\n",
            "| epoch  20 |    50/  200 steps | loss 0.07764 | ppl    1.081\n",
            "| epoch  20 |   100/  200 steps | loss 0.07312 | ppl    1.076\n",
            "| epoch  20 |   150/  200 steps | loss 0.06743 | ppl    1.070\n",
            "your accuracy is  0.742\n",
            "| epoch  21 |    50/  200 steps | loss 0.05936 | ppl    1.061\n",
            "| epoch  21 |   100/  200 steps | loss 0.04859 | ppl    1.050\n",
            "| epoch  21 |   150/  200 steps | loss 0.05829 | ppl    1.060\n",
            "your accuracy is  0.742\n",
            "| epoch  22 |    50/  200 steps | loss 0.08907 | ppl    1.093\n",
            "| epoch  22 |   100/  200 steps | loss 0.09012 | ppl    1.094\n",
            "| epoch  22 |   150/  200 steps | loss 0.03248 | ppl    1.033\n",
            "your accuracy is  0.719\n",
            "| epoch  23 |    50/  200 steps | loss 0.07784 | ppl    1.081\n",
            "| epoch  23 |   100/  200 steps | loss 0.02990 | ppl    1.030\n",
            "| epoch  23 |   150/  200 steps | loss 0.10152 | ppl    1.107\n",
            "your accuracy is  0.7465\n",
            "| epoch  24 |    50/  200 steps | loss 0.03523 | ppl    1.036\n",
            "| epoch  24 |   100/  200 steps | loss 0.03441 | ppl    1.035\n",
            "| epoch  24 |   150/  200 steps | loss 0.02466 | ppl    1.025\n",
            "your accuracy is  0.75\n",
            "| epoch  25 |    50/  200 steps | loss 0.02018 | ppl    1.020\n",
            "| epoch  25 |   100/  200 steps | loss 0.02436 | ppl    1.025\n",
            "| epoch  25 |   150/  200 steps | loss 0.06921 | ppl    1.072\n",
            "your accuracy is  0.7515\n",
            "| epoch  26 |    50/  200 steps | loss 0.06773 | ppl    1.070\n",
            "| epoch  26 |   100/  200 steps | loss 0.01549 | ppl    1.016\n",
            "| epoch  26 |   150/  200 steps | loss 0.04322 | ppl    1.044\n",
            "your accuracy is  0.761\n",
            "| epoch  27 |    50/  200 steps | loss 0.01036 | ppl    1.010\n",
            "| epoch  27 |   100/  200 steps | loss 0.03849 | ppl    1.039\n",
            "| epoch  27 |   150/  200 steps | loss 0.00043 | ppl    1.000\n",
            "your accuracy is  0.7405\n",
            "| epoch  28 |    50/  200 steps | loss 0.04574 | ppl    1.047\n",
            "| epoch  28 |   100/  200 steps | loss 0.06324 | ppl    1.065\n",
            "| epoch  28 |   150/  200 steps | loss 0.01522 | ppl    1.015\n",
            "your accuracy is  0.7345\n",
            "| epoch  29 |    50/  200 steps | loss 0.01148 | ppl    1.012\n",
            "| epoch  29 |   100/  200 steps | loss 0.00869 | ppl    1.009\n",
            "| epoch  29 |   150/  200 steps | loss 0.03369 | ppl    1.034\n",
            "your accuracy is  0.76\n",
            "| epoch  30 |    50/  200 steps | loss 0.07110 | ppl    1.074\n",
            "| epoch  30 |   100/  200 steps | loss 0.00057 | ppl    1.001\n",
            "| epoch  30 |   150/  200 steps | loss 0.02116 | ppl    1.021\n",
            "your accuracy is  0.7485\n",
            "\n",
            "=====PRETRAINED MODEL======\n",
            "| epoch   1 |    50/  200 steps | loss 0.88205 | ppl    2.416\n",
            "| epoch   1 |   100/  200 steps | loss 0.77201 | ppl    2.164\n",
            "| epoch   1 |   150/  200 steps | loss 0.76221 | ppl    2.143\n",
            "your accuracy is  0.6045\n",
            "| epoch   2 |    50/  200 steps | loss 0.79911 | ppl    2.224\n",
            "| epoch   2 |   100/  200 steps | loss 0.63545 | ppl    1.888\n",
            "| epoch   2 |   150/  200 steps | loss 0.59961 | ppl    1.821\n",
            "your accuracy is  0.7035\n",
            "| epoch   3 |    50/  200 steps | loss 0.59705 | ppl    1.817\n",
            "| epoch   3 |   100/  200 steps | loss 0.57111 | ppl    1.770\n",
            "| epoch   3 |   150/  200 steps | loss 0.55628 | ppl    1.744\n",
            "your accuracy is  0.739\n",
            "| epoch   4 |    50/  200 steps | loss 0.50304 | ppl    1.654\n",
            "| epoch   4 |   100/  200 steps | loss 0.51345 | ppl    1.671\n",
            "| epoch   4 |   150/  200 steps | loss 0.49148 | ppl    1.635\n",
            "your accuracy is  0.7125\n",
            "| epoch   5 |    50/  200 steps | loss 0.49140 | ppl    1.635\n",
            "| epoch   5 |   100/  200 steps | loss 0.50543 | ppl    1.658\n",
            "| epoch   5 |   150/  200 steps | loss 0.52140 | ppl    1.684\n",
            "your accuracy is  0.7625\n",
            "| epoch   6 |    50/  200 steps | loss 0.45592 | ppl    1.578\n",
            "| epoch   6 |   100/  200 steps | loss 0.50369 | ppl    1.655\n",
            "| epoch   6 |   150/  200 steps | loss 0.43485 | ppl    1.545\n",
            "your accuracy is  0.7545\n",
            "| epoch   7 |    50/  200 steps | loss 0.44957 | ppl    1.568\n",
            "| epoch   7 |   100/  200 steps | loss 0.37853 | ppl    1.460\n",
            "| epoch   7 |   150/  200 steps | loss 0.46187 | ppl    1.587\n",
            "your accuracy is  0.762\n",
            "| epoch   8 |    50/  200 steps | loss 0.38875 | ppl    1.475\n",
            "| epoch   8 |   100/  200 steps | loss 0.42807 | ppl    1.534\n",
            "| epoch   8 |   150/  200 steps | loss 0.48444 | ppl    1.623\n",
            "your accuracy is  0.7505\n",
            "| epoch   9 |    50/  200 steps | loss 0.35293 | ppl    1.423\n",
            "| epoch   9 |   100/  200 steps | loss 0.43629 | ppl    1.547\n",
            "| epoch   9 |   150/  200 steps | loss 0.40767 | ppl    1.503\n",
            "your accuracy is  0.7595\n",
            "| epoch  10 |    50/  200 steps | loss 0.38514 | ppl    1.470\n",
            "| epoch  10 |   100/  200 steps | loss 0.36664 | ppl    1.443\n",
            "| epoch  10 |   150/  200 steps | loss 0.44526 | ppl    1.561\n",
            "your accuracy is  0.7785\n",
            "| epoch  11 |    50/  200 steps | loss 0.36414 | ppl    1.439\n",
            "| epoch  11 |   100/  200 steps | loss 0.35886 | ppl    1.432\n",
            "| epoch  11 |   150/  200 steps | loss 0.32003 | ppl    1.377\n",
            "your accuracy is  0.769\n",
            "| epoch  12 |    50/  200 steps | loss 0.42789 | ppl    1.534\n",
            "| epoch  12 |   100/  200 steps | loss 0.29918 | ppl    1.349\n",
            "| epoch  12 |   150/  200 steps | loss 0.25013 | ppl    1.284\n",
            "your accuracy is  0.7925\n",
            "| epoch  13 |    50/  200 steps | loss 0.35577 | ppl    1.427\n",
            "| epoch  13 |   100/  200 steps | loss 0.34818 | ppl    1.416\n",
            "| epoch  13 |   150/  200 steps | loss 0.37157 | ppl    1.450\n",
            "your accuracy is  0.79\n",
            "| epoch  14 |    50/  200 steps | loss 0.35854 | ppl    1.431\n",
            "| epoch  14 |   100/  200 steps | loss 0.31013 | ppl    1.364\n",
            "| epoch  14 |   150/  200 steps | loss 0.29627 | ppl    1.345\n",
            "your accuracy is  0.782\n",
            "| epoch  15 |    50/  200 steps | loss 0.27664 | ppl    1.319\n",
            "| epoch  15 |   100/  200 steps | loss 0.21563 | ppl    1.241\n",
            "| epoch  15 |   150/  200 steps | loss 0.32081 | ppl    1.378\n",
            "your accuracy is  0.786\n",
            "| epoch  16 |    50/  200 steps | loss 0.33842 | ppl    1.403\n",
            "| epoch  16 |   100/  200 steps | loss 0.29818 | ppl    1.347\n",
            "| epoch  16 |   150/  200 steps | loss 0.27756 | ppl    1.320\n",
            "your accuracy is  0.789\n",
            "| epoch  17 |    50/  200 steps | loss 0.33110 | ppl    1.393\n",
            "| epoch  17 |   100/  200 steps | loss 0.32324 | ppl    1.382\n",
            "| epoch  17 |   150/  200 steps | loss 0.30730 | ppl    1.360\n",
            "your accuracy is  0.785\n",
            "| epoch  18 |    50/  200 steps | loss 0.17409 | ppl    1.190\n",
            "| epoch  18 |   100/  200 steps | loss 0.20483 | ppl    1.227\n",
            "| epoch  18 |   150/  200 steps | loss 0.28882 | ppl    1.335\n",
            "your accuracy is  0.7805\n",
            "| epoch  19 |    50/  200 steps | loss 0.24035 | ppl    1.272\n",
            "| epoch  19 |   100/  200 steps | loss 0.31922 | ppl    1.376\n",
            "| epoch  19 |   150/  200 steps | loss 0.23212 | ppl    1.261\n",
            "your accuracy is  0.779\n",
            "| epoch  20 |    50/  200 steps | loss 0.17679 | ppl    1.193\n",
            "| epoch  20 |   100/  200 steps | loss 0.21336 | ppl    1.238\n",
            "| epoch  20 |   150/  200 steps | loss 0.23202 | ppl    1.261\n",
            "your accuracy is  0.7795\n",
            "| epoch  21 |    50/  200 steps | loss 0.21844 | ppl    1.244\n",
            "| epoch  21 |   100/  200 steps | loss 0.26083 | ppl    1.298\n",
            "| epoch  21 |   150/  200 steps | loss 0.21586 | ppl    1.241\n",
            "your accuracy is  0.774\n",
            "| epoch  22 |    50/  200 steps | loss 0.22973 | ppl    1.258\n",
            "| epoch  22 |   100/  200 steps | loss 0.26275 | ppl    1.301\n",
            "| epoch  22 |   150/  200 steps | loss 0.25937 | ppl    1.296\n",
            "your accuracy is  0.772\n",
            "| epoch  23 |    50/  200 steps | loss 0.15604 | ppl    1.169\n",
            "| epoch  23 |   100/  200 steps | loss 0.18876 | ppl    1.208\n",
            "| epoch  23 |   150/  200 steps | loss 0.21779 | ppl    1.243\n",
            "your accuracy is  0.778\n",
            "| epoch  24 |    50/  200 steps | loss 0.21009 | ppl    1.234\n",
            "| epoch  24 |   100/  200 steps | loss 0.28298 | ppl    1.327\n",
            "| epoch  24 |   150/  200 steps | loss 0.17301 | ppl    1.189\n",
            "your accuracy is  0.773\n",
            "| epoch  25 |    50/  200 steps | loss 0.19954 | ppl    1.221\n",
            "| epoch  25 |   100/  200 steps | loss 0.18297 | ppl    1.201\n",
            "| epoch  25 |   150/  200 steps | loss 0.23684 | ppl    1.267\n",
            "your accuracy is  0.792\n",
            "| epoch  26 |    50/  200 steps | loss 0.15898 | ppl    1.172\n",
            "| epoch  26 |   100/  200 steps | loss 0.17983 | ppl    1.197\n",
            "| epoch  26 |   150/  200 steps | loss 0.17369 | ppl    1.190\n",
            "your accuracy is  0.785\n",
            "| epoch  27 |    50/  200 steps | loss 0.22325 | ppl    1.250\n",
            "| epoch  27 |   100/  200 steps | loss 0.22916 | ppl    1.258\n",
            "| epoch  27 |   150/  200 steps | loss 0.13546 | ppl    1.145\n",
            "your accuracy is  0.7865\n",
            "| epoch  28 |    50/  200 steps | loss 0.08854 | ppl    1.093\n",
            "| epoch  28 |   100/  200 steps | loss 0.17032 | ppl    1.186\n",
            "| epoch  28 |   150/  200 steps | loss 0.13034 | ppl    1.139\n",
            "your accuracy is  0.795\n",
            "| epoch  29 |    50/  200 steps | loss 0.15681 | ppl    1.170\n",
            "| epoch  29 |   100/  200 steps | loss 0.08570 | ppl    1.089\n",
            "| epoch  29 |   150/  200 steps | loss 0.18249 | ppl    1.200\n",
            "your accuracy is  0.772\n",
            "| epoch  30 |    50/  200 steps | loss 0.17637 | ppl    1.193\n",
            "| epoch  30 |   100/  200 steps | loss 0.09317 | ppl    1.098\n",
            "| epoch  30 |   150/  200 steps | loss 0.28176 | ppl    1.325\n",
            "your accuracy is  0.786\n",
            "\n"
          ],
          "name": "stdout"
        }
      ]
    },
    {
      "cell_type": "code",
      "metadata": {
        "id": "RCpBIdTHojm6",
        "colab": {
          "base_uri": "https://localhost:8080/",
          "height": 282
        },
        "outputId": "617204f3-3319-419f-8937-d201c3784529"
      },
      "source": [
        "#Visualize the accuracy\n",
        "import matplotlib.pyplot as plt\n",
        "\n",
        "plt.plot(from_scratch_valid_acc,label=\"from scratch\")\n",
        "plt.plot(pretrained_valid_acc,label='pretrained')\n",
        "\n",
        "plt.plot()\n",
        "plt.legend()\n"
      ],
      "execution_count": 217,
      "outputs": [
        {
          "output_type": "execute_result",
          "data": {
            "text/plain": [
              "<matplotlib.legend.Legend at 0x7fb5f15fd2b0>"
            ]
          },
          "metadata": {
            "tags": []
          },
          "execution_count": 217
        },
        {
          "output_type": "display_data",
          "data": {
            "image/png": "[encoded data removed]",
            "text/plain": [
              "<Figure size 432x288 with 1 Axes>"
            ]
          },
          "metadata": {
            "tags": [],
            "needs_background": "light"
          }
        }
      ]
    }
  ]
}